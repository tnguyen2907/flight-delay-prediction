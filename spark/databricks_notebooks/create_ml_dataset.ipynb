{
 "cells": [
  {
   "cell_type": "code",
   "execution_count": 0,
   "metadata": {
    "application/vnd.databricks.v1+cell": {
     "cellMetadata": {
      "byteLimit": 2048000,
      "rowLimit": 10000
     },
     "inputWidgets": {},
     "nuid": "819ff058-cacf-4a74-b951-121eff0ae480",
     "showTitle": false,
     "tableResultSettingsMap": {},
     "title": ""
    }
   },
   "outputs": [],
   "source": [
    "from pyspark.sql import SparkSession\n",
    "import pyspark.sql.functions as F"
   ]
  },
  {
   "cell_type": "code",
   "execution_count": 0,
   "metadata": {
    "application/vnd.databricks.v1+cell": {
     "cellMetadata": {
      "byteLimit": 2048000,
      "rowLimit": 10000
     },
     "inputWidgets": {},
     "nuid": "0cc3336e-c9ed-4003-946a-045eef4c93c7",
     "showTitle": false,
     "tableResultSettingsMap": {},
     "title": ""
    }
   },
   "outputs": [],
   "source": [
    "df = spark.read.parquet(\"gs://flight-delay-pred-data/processed/data_*.parquet\")\n",
    "\n",
    "df = df.withColumn(\"MonthDayAirline\", \n",
    "                   F.concat(F.col(\"Month\").cast(\"string\"), \n",
    "                            F.lit(\" \"), \n",
    "                            F.col(\"DayofMonth\").cast(\"string\"), \n",
    "                            F.lit(\" \"), \n",
    "                            F.col(\"AirlineName\")))\n",
    "\n",
    "# fractions = {mda[0]: 0.15 for mda in df.select(\"MonthDayAirline\").distinct().collect()}\n",
    "# df = df.stat.sampleBy(\"MonthDayAirline\", fractions, seed=69)\n",
    "\n",
    "df = df.drop(\"FlightDate\", \"IATACode\", \"ActualDepartureTime\", \"ActualArrivalTime\", \n",
    "             \"TaxiInTime\", \"TaxiOutTime\", \"ActualElapsedTime\", \"AirTime\", \"Cancelled\",\n",
    "             \"CarrierDelayMinutes\", \"WeatherDelayMinutes\", \"NASDelayMinutes\", \n",
    "             \"SecurityDelayMinutes\", \"LateAircraftDelayMinutes\", \n",
    "             \"ScheduledDepartureTimestamp\", \"ScheduledArrivalTimestamp\", \n",
    "             \"ActualArrivalTimestamp\", \"ActualDepartureTimestamp\", \"DepartureWeatherCode\",\n",
    "             \"ArrivalWeatherCode\", \"Holiday\", \"ArrivalDelayed\", \"DepartureDelayedMinutes\",\n",
    "             \"ArrivalDelayedMinutes\", \"DestinationCity\", \"OriginCity\", \n",
    "             \"Year\", \"DepartureDelayMinutes\", \"ArrivalDelayMinutes\")\n",
    "\n",
    "df = df.withColumn(\"DepartureDelayed\", F.col(\"DepartureDelayed\").cast(\"int\"))               \n",
    "\n",
    "df = df.withColumn(\"Id\", F.monotonically_increasing_id())\n",
    "\n",
    "mdas = df.select(\"MonthDayAirline\").distinct().collect()\n",
    "\n",
    "train_fractions = {mda[0]: 0.8 for mda in mdas}\n",
    "train_df = df.sampleBy(\"MonthDayAirline\", fractions=train_fractions, seed=69)\n",
    "\n",
    "test_val_df = df.join(train_df, on=\"Id\", how=\"left_anti\")\n",
    "val_fractions = {mda[0]: 0.5 for mda in mdas}\n",
    "val_df = test_val_df.sampleBy(\"MonthDayAirline\", fractions=val_fractions, seed=69)\n",
    "\n",
    "test_df = test_val_df.join(val_df, on=\"Id\", how=\"left_anti\")\n",
    "\n",
    "# TODO: Repartition the data every new dataset and change the name\n",
    "dataset_name = \"dataset_delayed_2014_to_2024\"\n",
    "df.drop(\"Id\", \"MonthDayAirline\").repartition(10).write.parquet(\"gs://flight-delay-pred-data/ml/{}/all.parquet\".format(dataset_name), mode=\"overwrite\")\n",
    "train_df.drop(\"Id\", \"MonthDayAirline\").repartition(10).write.parquet(\"gs://flight-delay-pred-data/ml/{}/train.parquet\".format(dataset_name), mode=\"overwrite\")\n",
    "val_df.drop(\"Id\", \"MonthDayAirline\").repartition(5).write.parquet(\"gs://flight-delay-pred-data/ml/{}/val.parquet\".format(dataset_name), mode=\"overwrite\")\n",
    "test_df.drop(\"Id\", \"MonthDayAirline\").repartition(5).write.parquet(\"gs://flight-delay-pred-data/ml/{}/test.parquet\".format(dataset_name), mode=\"overwrite\")"
   ]
  },
  {
   "cell_type": "code",
   "execution_count": 0,
   "metadata": {
    "application/vnd.databricks.v1+cell": {
     "cellMetadata": {
      "byteLimit": 2048000,
      "rowLimit": 10000
     },
     "inputWidgets": {},
     "nuid": "badd0c36-8cb6-4b4b-b6fc-864a8271f5de",
     "showTitle": false,
     "tableResultSettingsMap": {},
     "title": ""
    }
   },
   "outputs": [
    {
     "output_type": "stream",
     "name": "stdout",
     "output_type": "stream",
     "text": [
      "Number of rows in train_df_2023_15pc: 804711\nNumber of rows in val_df_2023_15pc: 100503\nNumber of rows in test_df_2023_15pc: 101124\n"
     ]
    }
   ],
   "source": [
    "train_df_2023_15pc = spark.read.parquet(\"gs://flight-delay-pred-data/ml/dataset_delayed_2023_15pc/train.parquet\")\n",
    "print(\"Number of rows in train_df_2023_15pc: {}\".format(train_df_2023_15pc.count()))\n",
    "val_df_2023_15pc = spark.read.parquet(\"gs://flight-delay-pred-data/ml/dataset_delayed_2023_15pc/val.parquet\")\n",
    "print(\"Number of rows in val_df_2023_15pc: {}\".format(val_df_2023_15pc.count()))\n",
    "test_df_2023_15pc = spark.read.parquet(\"gs://flight-delay-pred-data/ml/dataset_delayed_2023_15pc/test.parquet\")\n",
    "print(\"Number of rows in test_df_2023_15pc: {}\".format(test_df_2023_15pc.count()))"
   ]
  },
  {
   "cell_type": "code",
   "execution_count": 0,
   "metadata": {
    "application/vnd.databricks.v1+cell": {
     "cellMetadata": {
      "byteLimit": 2048000,
      "rowLimit": 10000
     },
     "inputWidgets": {},
     "nuid": "21fed6bd-6d51-49e0-9410-75e9561c9dc4",
     "showTitle": false,
     "tableResultSettingsMap": {},
     "title": ""
    }
   },
   "outputs": [
    {
     "output_type": "stream",
     "name": "stdout",
     "output_type": "stream",
     "text": [
      "Number of rows in train_df_2023: 5373933\nNumber of rows in val_df_2023: 672588\nNumber of rows in test_df_2023: 674206\n"
     ]
    }
   ],
   "source": [
    "train_df_2023 = spark.read.parquet(\"gs://flight-delay-pred-data/ml/dataset_delayed_2023/train.parquet\")\n",
    "print(\"Number of rows in train_df_2023: {}\".format(train_df_2023.count()))\n",
    "val_df_2023 = spark.read.parquet(\"gs://flight-delay-pred-data/ml/dataset_delayed_2023/val.parquet\")\n",
    "print(\"Number of rows in val_df_2023: {}\".format(val_df_2023.count()))\n",
    "test_df_2023 = spark.read.parquet(\"gs://flight-delay-pred-data/ml/dataset_delayed_2023/test.parquet\")\n",
    "print(\"Number of rows in test_df_2023: {}\".format(test_df_2023.count()))"
   ]
  },
  {
   "cell_type": "code",
   "execution_count": 0,
   "metadata": {
    "application/vnd.databricks.v1+cell": {
     "cellMetadata": {
      "byteLimit": 2048000,
      "rowLimit": 10000
     },
     "inputWidgets": {},
     "nuid": "e6e4e5f1-b380-4e32-b887-cd3abf5f9673",
     "showTitle": false,
     "tableResultSettingsMap": {},
     "title": ""
    }
   },
   "outputs": [
    {
     "output_type": "stream",
     "name": "stdout",
     "output_type": "stream",
     "text": [
      "Number of rows in train_df_2014_to_2024: 49230933\nNumber of rows in val_df_2014_to_2024: 6154767\nNumber of rows in test_df_2014_to_2024: 6155664\n"
     ]
    }
   ],
   "source": [
    "train_df_2014_to_2024 = spark.read.parquet(\"gs://flight-delay-pred-data/ml/dataset_delayed_2014_to_2024/train.parquet\")\n",
    "print(\"Number of rows in train_df_2014_to_2024: {}\".format(train_df_2014_to_2024.count()))\n",
    "val_df_2014_to_2024 = spark.read.parquet(\"gs://flight-delay-pred-data/ml/dataset_delayed_2014_to_2024/val.parquet\")\n",
    "print(\"Number of rows in val_df_2014_to_2024: {}\".format(val_df_2014_to_2024.count()))\n",
    "test_df_2014_to_2024 = spark.read.parquet(\"gs://flight-delay-pred-data/ml/dataset_delayed_2014_to_2024/test.parquet\")\n",
    "print(\"Number of rows in test_df_2014_to_2024: {}\".format(test_df_2014_to_2024.count()))"
   ]
  }
 ],
 "metadata": {
  "application/vnd.databricks.v1+notebook": {
   "computePreferences": null,
   "dashboards": [],
   "environmentMetadata": null,
   "inputWidgetPreferences": null,
   "language": "python",
   "notebookMetadata": {
    "pythonIndentUnit": 4
   },
   "notebookName": "create_ml_dataset",
   "widgets": {}
  },
  "kernelspec": {
   "display_name": "flight-delay-prediction",
   "language": "python",
   "name": "python3"
  },
  "language_info": {
   "name": "python"
  }
 },
 "nbformat": 4,
 "nbformat_minor": 0
}